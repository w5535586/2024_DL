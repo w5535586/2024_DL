{
 "cells": [
  {
   "cell_type": "code",
   "execution_count": 2,
   "metadata": {},
   "outputs": [
    {
     "name": "stderr",
     "output_type": "stream",
     "text": [
      "c:\\Users\\wen\\anaconda3\\envs\\wen\\lib\\site-packages\\sklearn\\cluster\\_kmeans.py:1412: FutureWarning: The default value of `n_init` will change from 10 to 'auto' in 1.4. Set the value of `n_init` explicitly to suppress the warning\n",
      "  super()._check_params_vs_input(X, default_n_init=10)\n",
      "c:\\Users\\wen\\anaconda3\\envs\\wen\\lib\\site-packages\\sklearn\\cluster\\_kmeans.py:1412: FutureWarning: The default value of `n_init` will change from 10 to 'auto' in 1.4. Set the value of `n_init` explicitly to suppress the warning\n",
      "  super()._check_params_vs_input(X, default_n_init=10)\n",
      "c:\\Users\\wen\\anaconda3\\envs\\wen\\lib\\site-packages\\sklearn\\cluster\\_kmeans.py:1436: UserWarning: KMeans is known to have a memory leak on Windows with MKL, when there are less chunks than available threads. You can avoid it by setting the environment variable OMP_NUM_THREADS=8.\n",
      "  warnings.warn(\n"
     ]
    },
    {
     "name": "stdout",
     "output_type": "stream",
     "text": [
      "K-Nearest Neighbors brisk - Accuracy: 0.4, F1-Score: 0.3333333333333333\n"
     ]
    },
    {
     "name": "stderr",
     "output_type": "stream",
     "text": [
      "c:\\Users\\wen\\anaconda3\\envs\\wen\\lib\\site-packages\\sklearn\\cluster\\_kmeans.py:1412: FutureWarning: The default value of `n_init` will change from 10 to 'auto' in 1.4. Set the value of `n_init` explicitly to suppress the warning\n",
      "  super()._check_params_vs_input(X, default_n_init=10)\n",
      "c:\\Users\\wen\\anaconda3\\envs\\wen\\lib\\site-packages\\sklearn\\cluster\\_kmeans.py:1412: FutureWarning: The default value of `n_init` will change from 10 to 'auto' in 1.4. Set the value of `n_init` explicitly to suppress the warning\n",
      "  super()._check_params_vs_input(X, default_n_init=10)\n",
      "c:\\Users\\wen\\anaconda3\\envs\\wen\\lib\\site-packages\\sklearn\\cluster\\_kmeans.py:1436: UserWarning: KMeans is known to have a memory leak on Windows with MKL, when there are less chunks than available threads. You can avoid it by setting the environment variable OMP_NUM_THREADS=8.\n",
      "  warnings.warn(\n"
     ]
    },
    {
     "name": "stdout",
     "output_type": "stream",
     "text": [
      "K-Nearest Neighbors orb - Accuracy: 0.4, F1-Score: 0.3333333333333333\n"
     ]
    },
    {
     "name": "stderr",
     "output_type": "stream",
     "text": [
      "c:\\Users\\wen\\anaconda3\\envs\\wen\\lib\\site-packages\\sklearn\\cluster\\_kmeans.py:1412: FutureWarning: The default value of `n_init` will change from 10 to 'auto' in 1.4. Set the value of `n_init` explicitly to suppress the warning\n",
      "  super()._check_params_vs_input(X, default_n_init=10)\n",
      "c:\\Users\\wen\\anaconda3\\envs\\wen\\lib\\site-packages\\sklearn\\cluster\\_kmeans.py:1412: FutureWarning: The default value of `n_init` will change from 10 to 'auto' in 1.4. Set the value of `n_init` explicitly to suppress the warning\n",
      "  super()._check_params_vs_input(X, default_n_init=10)\n"
     ]
    },
    {
     "name": "stdout",
     "output_type": "stream",
     "text": [
      "K-Nearest Neighbors hog - Accuracy: 0.0, F1-Score: 0.0\n"
     ]
    },
    {
     "name": "stderr",
     "output_type": "stream",
     "text": [
      "c:\\Users\\wen\\anaconda3\\envs\\wen\\lib\\site-packages\\sklearn\\cluster\\_kmeans.py:1412: FutureWarning: The default value of `n_init` will change from 10 to 'auto' in 1.4. Set the value of `n_init` explicitly to suppress the warning\n",
      "  super()._check_params_vs_input(X, default_n_init=10)\n",
      "c:\\Users\\wen\\anaconda3\\envs\\wen\\lib\\site-packages\\sklearn\\cluster\\_kmeans.py:1412: FutureWarning: The default value of `n_init` will change from 10 to 'auto' in 1.4. Set the value of `n_init` explicitly to suppress the warning\n",
      "  super()._check_params_vs_input(X, default_n_init=10)\n",
      "c:\\Users\\wen\\anaconda3\\envs\\wen\\lib\\site-packages\\sklearn\\cluster\\_kmeans.py:1436: UserWarning: KMeans is known to have a memory leak on Windows with MKL, when there are less chunks than available threads. You can avoid it by setting the environment variable OMP_NUM_THREADS=8.\n",
      "  warnings.warn(\n"
     ]
    },
    {
     "name": "stdout",
     "output_type": "stream",
     "text": [
      "Support Vector Machine brisk - Accuracy: 0.2, F1-Score: 0.2\n"
     ]
    },
    {
     "name": "stderr",
     "output_type": "stream",
     "text": [
      "c:\\Users\\wen\\anaconda3\\envs\\wen\\lib\\site-packages\\sklearn\\cluster\\_kmeans.py:1412: FutureWarning: The default value of `n_init` will change from 10 to 'auto' in 1.4. Set the value of `n_init` explicitly to suppress the warning\n",
      "  super()._check_params_vs_input(X, default_n_init=10)\n",
      "c:\\Users\\wen\\anaconda3\\envs\\wen\\lib\\site-packages\\sklearn\\cluster\\_kmeans.py:1412: FutureWarning: The default value of `n_init` will change from 10 to 'auto' in 1.4. Set the value of `n_init` explicitly to suppress the warning\n",
      "  super()._check_params_vs_input(X, default_n_init=10)\n",
      "c:\\Users\\wen\\anaconda3\\envs\\wen\\lib\\site-packages\\sklearn\\cluster\\_kmeans.py:1436: UserWarning: KMeans is known to have a memory leak on Windows with MKL, when there are less chunks than available threads. You can avoid it by setting the environment variable OMP_NUM_THREADS=8.\n",
      "  warnings.warn(\n"
     ]
    },
    {
     "name": "stdout",
     "output_type": "stream",
     "text": [
      "Support Vector Machine orb - Accuracy: 0.6, F1-Score: 0.5333333333333333\n"
     ]
    },
    {
     "name": "stderr",
     "output_type": "stream",
     "text": [
      "c:\\Users\\wen\\anaconda3\\envs\\wen\\lib\\site-packages\\sklearn\\cluster\\_kmeans.py:1412: FutureWarning: The default value of `n_init` will change from 10 to 'auto' in 1.4. Set the value of `n_init` explicitly to suppress the warning\n",
      "  super()._check_params_vs_input(X, default_n_init=10)\n",
      "c:\\Users\\wen\\anaconda3\\envs\\wen\\lib\\site-packages\\sklearn\\cluster\\_kmeans.py:1412: FutureWarning: The default value of `n_init` will change from 10 to 'auto' in 1.4. Set the value of `n_init` explicitly to suppress the warning\n",
      "  super()._check_params_vs_input(X, default_n_init=10)\n"
     ]
    },
    {
     "name": "stdout",
     "output_type": "stream",
     "text": [
      "Support Vector Machine hog - Accuracy: 0.2, F1-Score: 0.06666666666666668\n"
     ]
    },
    {
     "name": "stderr",
     "output_type": "stream",
     "text": [
      "c:\\Users\\wen\\anaconda3\\envs\\wen\\lib\\site-packages\\sklearn\\cluster\\_kmeans.py:1412: FutureWarning: The default value of `n_init` will change from 10 to 'auto' in 1.4. Set the value of `n_init` explicitly to suppress the warning\n",
      "  super()._check_params_vs_input(X, default_n_init=10)\n",
      "c:\\Users\\wen\\anaconda3\\envs\\wen\\lib\\site-packages\\sklearn\\cluster\\_kmeans.py:1412: FutureWarning: The default value of `n_init` will change from 10 to 'auto' in 1.4. Set the value of `n_init` explicitly to suppress the warning\n",
      "  super()._check_params_vs_input(X, default_n_init=10)\n",
      "c:\\Users\\wen\\anaconda3\\envs\\wen\\lib\\site-packages\\sklearn\\cluster\\_kmeans.py:1436: UserWarning: KMeans is known to have a memory leak on Windows with MKL, when there are less chunks than available threads. You can avoid it by setting the environment variable OMP_NUM_THREADS=8.\n",
      "  warnings.warn(\n"
     ]
    },
    {
     "name": "stdout",
     "output_type": "stream",
     "text": [
      "XGBoost brisk - Accuracy: 0.6, F1-Score: 0.5333333333333333\n"
     ]
    },
    {
     "name": "stderr",
     "output_type": "stream",
     "text": [
      "c:\\Users\\wen\\anaconda3\\envs\\wen\\lib\\site-packages\\sklearn\\cluster\\_kmeans.py:1412: FutureWarning: The default value of `n_init` will change from 10 to 'auto' in 1.4. Set the value of `n_init` explicitly to suppress the warning\n",
      "  super()._check_params_vs_input(X, default_n_init=10)\n",
      "c:\\Users\\wen\\anaconda3\\envs\\wen\\lib\\site-packages\\sklearn\\cluster\\_kmeans.py:1412: FutureWarning: The default value of `n_init` will change from 10 to 'auto' in 1.4. Set the value of `n_init` explicitly to suppress the warning\n",
      "  super()._check_params_vs_input(X, default_n_init=10)\n",
      "c:\\Users\\wen\\anaconda3\\envs\\wen\\lib\\site-packages\\sklearn\\cluster\\_kmeans.py:1436: UserWarning: KMeans is known to have a memory leak on Windows with MKL, when there are less chunks than available threads. You can avoid it by setting the environment variable OMP_NUM_THREADS=8.\n",
      "  warnings.warn(\n"
     ]
    },
    {
     "name": "stdout",
     "output_type": "stream",
     "text": [
      "XGBoost orb - Accuracy: 0.8, F1-Score: 0.7333333333333333\n"
     ]
    },
    {
     "name": "stderr",
     "output_type": "stream",
     "text": [
      "c:\\Users\\wen\\anaconda3\\envs\\wen\\lib\\site-packages\\sklearn\\cluster\\_kmeans.py:1412: FutureWarning: The default value of `n_init` will change from 10 to 'auto' in 1.4. Set the value of `n_init` explicitly to suppress the warning\n",
      "  super()._check_params_vs_input(X, default_n_init=10)\n",
      "c:\\Users\\wen\\anaconda3\\envs\\wen\\lib\\site-packages\\sklearn\\cluster\\_kmeans.py:1412: FutureWarning: The default value of `n_init` will change from 10 to 'auto' in 1.4. Set the value of `n_init` explicitly to suppress the warning\n",
      "  super()._check_params_vs_input(X, default_n_init=10)\n"
     ]
    },
    {
     "name": "stdout",
     "output_type": "stream",
     "text": [
      "XGBoost hog - Accuracy: 0.0, F1-Score: 0.0\n"
     ]
    }
   ],
   "source": [
    "import numpy as np\n",
    "import cv2\n",
    "from sklearn.svm import SVC\n",
    "from sklearn.neighbors import KNeighborsClassifier\n",
    "from sklearn.metrics import accuracy_score, f1_score\n",
    "from skimage.feature import hog\n",
    "import xgboost as xgb\n",
    "from sklearn.cluster import KMeans\n",
    "\n",
    "def load_img(f, num_clusters=50, func=\"orb\"):\n",
    "    f = open(f)\n",
    "    lines = f.readlines()\n",
    "    imgs, lab = [], []\n",
    "    if func==\"orb\":\n",
    "        orb = cv2.ORB_create()\n",
    "    elif func==\"brisk\":\n",
    "        brisk = cv2.BRISK_create()\n",
    "    # Perform k-means clustering on descriptors\n",
    "    descriptors = []\n",
    "    for i in range(len(lines)):\n",
    "        line = lines[i].strip()  # Remove leading/trailing whitespaces\n",
    "        fn, label = line.split(' ')\n",
    "        label = int(label)\n",
    "        if label in [0, 1, 2, 3, 4]:\n",
    "            im1 = cv2.imread(fn)\n",
    "            im1 = cv2.resize(im1, (256, 256))\n",
    "            im1 = cv2.cvtColor(im1, cv2.COLOR_BGR2GRAY)\n",
    "            if func==\"orb\":\n",
    "                kp, des = orb.detectAndCompute(im1, None)\n",
    "            elif func==\"brisk\":\n",
    "                kp, des = brisk.detectAndCompute(im1, None)\n",
    "            elif func==\"hog\":\n",
    "                des, _ = hog(im1, orientations=8, pixels_per_cell=(16, 16), cells_per_block=(1, 1), block_norm='L2-Hys', visualize=True)\n",
    "            if des is not None:\n",
    "                descriptors.extend(des)\n",
    "    descriptors = np.array(descriptors)\n",
    "    if func==\"hog\":\n",
    "        kmeans = KMeans(n_clusters=num_clusters, random_state=0).fit(descriptors.reshape(-1, 1))\n",
    "    else:\n",
    "        kmeans = KMeans(n_clusters=num_clusters, random_state=0).fit(descriptors)\n",
    "    \n",
    "    for i in range(len(lines)):\n",
    "        line = lines[i].strip()  # Remove leading/trailing whitespaces\n",
    "        fn, label = line.split(' ')\n",
    "        label = int(label)\n",
    "        if label in [0, 1, 2, 3, 4]:\n",
    "            im1 = cv2.imread(fn)\n",
    "            im1 = cv2.resize(im1, (256, 256))\n",
    "            im1 = cv2.cvtColor(im1, cv2.COLOR_BGR2GRAY)\n",
    "            if func==\"orb\":\n",
    "                kp, des = orb.detectAndCompute(im1, None)\n",
    "            elif func==\"brisk\":\n",
    "                kp, des = brisk.detectAndCompute(im1, None)\n",
    "            elif func==\"hog\":\n",
    "                des, _ = hog(im1, orientations=8, pixels_per_cell=(16, 16), cells_per_block=(1, 1), block_norm='L2-Hys', visualize=True)\n",
    "            features = np.zeros(num_clusters)\n",
    "            if des is not None:\n",
    "                if func==\"hog\":\n",
    "                    labels = kmeans.predict(des.reshape(-1, 1))\n",
    "                else:\n",
    "                    labels = kmeans.predict(des)\n",
    "                features = np.bincount(labels, minlength=num_clusters)\n",
    "            imgs.append(features)\n",
    "            lab.append(int(label))\n",
    "\n",
    "    imgs = np.asarray(imgs)\n",
    "    lab = np.asarray(lab, np.int32)\n",
    "    return imgs, lab\n",
    "\n",
    "classifiers = {\n",
    "        'K-Nearest Neighbors': KNeighborsClassifier(),\n",
    "        'Support Vector Machine': SVC(),\n",
    "        'XGBoost': xgb.XGBClassifier()  # Adding XGBoost here\n",
    "    }\n",
    "\n",
    "for name, clf in classifiers.items():\n",
    "    # Load training and testing data\n",
    "    for extract_func in ['brisk','orb','hog']:\n",
    "        x, y = load_img('train.txt',func=extract_func)\n",
    "        tx, ty = load_img('test.txt',func=extract_func)\n",
    "        clf.fit(x, y)\n",
    "        pred = clf.predict(tx)\n",
    "        acc = accuracy_score(ty, pred)\n",
    "        f1 = f1_score(ty, pred, average='weighted')\n",
    "        print(f\"{name} {extract_func} - Accuracy: {acc}, F1-Score: {f1}\")"
   ]
  },
  {
   "cell_type": "code",
   "execution_count": 3,
   "metadata": {},
   "outputs": [
    {
     "name": "stdout",
     "output_type": "stream",
     "text": [
      "WARNING:tensorflow:From c:\\Users\\wen\\anaconda3\\envs\\wen\\lib\\site-packages\\keras\\src\\losses.py:2976: The name tf.losses.sparse_softmax_cross_entropy is deprecated. Please use tf.compat.v1.losses.sparse_softmax_cross_entropy instead.\n",
      "\n",
      "WARNING:tensorflow:From c:\\Users\\wen\\anaconda3\\envs\\wen\\lib\\site-packages\\keras\\src\\backend.py:1398: The name tf.executing_eagerly_outside_functions is deprecated. Please use tf.compat.v1.executing_eagerly_outside_functions instead.\n",
      "\n",
      "WARNING:tensorflow:From c:\\Users\\wen\\anaconda3\\envs\\wen\\lib\\site-packages\\keras\\src\\layers\\normalization\\batch_normalization.py:979: The name tf.nn.fused_batch_norm is deprecated. Please use tf.compat.v1.nn.fused_batch_norm instead.\n",
      "\n",
      "78/78 [==============================] - 48s 605ms/step\n",
      "1/1 [==============================] - 0s 114ms/step\n",
      "K-Nearest Neighbors - Accuracy: 0.8, F1-Score: 0.7333333333333333\n",
      "Support Vector Machine - Accuracy: 0.8, F1-Score: 0.7333333333333333\n",
      "XGBoost - Accuracy: 0.8, F1-Score: 0.7333333333333333\n"
     ]
    }
   ],
   "source": [
    "import numpy as np\n",
    "from sklearn.svm import SVC\n",
    "from sklearn.neighbors import KNeighborsClassifier\n",
    "from sklearn.metrics import accuracy_score, f1_score\n",
    "import tensorflow as tf\n",
    "from tensorflow.keras.applications import ResNet50\n",
    "from tensorflow.keras.preprocessing import image\n",
    "from tensorflow.keras.applications.resnet50 import preprocess_input\n",
    "\n",
    "def load_img(f, target_size=(224, 224)):\n",
    "    try:\n",
    "        f = open(f)\n",
    "        lines = f.readlines()\n",
    "        imgs, lab = [], []\n",
    "        for i in range(len(lines)):\n",
    "            line = lines[i].strip()  # Remove leading/trailing whitespaces\n",
    "            fn, label = line.split(' ')\n",
    "            label = int(label)\n",
    "            if label in [0, 1, 2, 3, 4]:\n",
    "                img = image.load_img(fn, target_size=target_size)\n",
    "                img = image.img_to_array(img)\n",
    "                img = np.expand_dims(img, axis=0)\n",
    "                img = preprocess_input(img)\n",
    "                imgs.append(img)\n",
    "                lab.append(label)\n",
    "\n",
    "        imgs = np.vstack(imgs)\n",
    "        lab = np.array(lab)\n",
    "        return imgs, lab\n",
    "    except Exception as e:\n",
    "        print(f\"An error occurred: {e}\")\n",
    "        return None, None\n",
    "\n",
    "# Load training and testing data\n",
    "x, y = load_img('train.txt')\n",
    "tx, ty = load_img('test.txt')\n",
    "\n",
    "if x is not None and y is not None and tx is not None and ty is not None:\n",
    "    # Load pre-trained ResNet50 model without the top (classification) layer\n",
    "    base_model = ResNet50(weights='imagenet', include_top=False, pooling='avg')\n",
    "\n",
    "    # Extract features using the pre-trained ResNet50 model\n",
    "    x_features = base_model.predict(x)\n",
    "    tx_features = base_model.predict(tx)\n",
    "\n",
    "    classifiers = {\n",
    "        'K-Nearest Neighbors': KNeighborsClassifier(),\n",
    "        'Support Vector Machine': SVC(),\n",
    "        'XGBoost': xgb.XGBClassifier()  # Adding XGBoost here\n",
    "    }\n",
    "\n",
    "    for name, clf in classifiers.items():\n",
    "        clf.fit(x_features, y)\n",
    "        pred = clf.predict(tx_features)\n",
    "        acc = accuracy_score(ty, pred)\n",
    "        f1 = f1_score(ty, pred, average='weighted')\n",
    "        print(f\"{name} - Accuracy: {acc}, F1-Score: {f1}\")\n",
    "else:\n",
    "    print(\"Error loading data. Please check the file paths and formats.\")\n"
   ]
  }
 ],
 "metadata": {
  "kernelspec": {
   "display_name": "wen",
   "language": "python",
   "name": "python3"
  },
  "language_info": {
   "codemirror_mode": {
    "name": "ipython",
    "version": 3
   },
   "file_extension": ".py",
   "mimetype": "text/x-python",
   "name": "python",
   "nbconvert_exporter": "python",
   "pygments_lexer": "ipython3",
   "version": "3.9.0"
  }
 },
 "nbformat": 4,
 "nbformat_minor": 2
}
